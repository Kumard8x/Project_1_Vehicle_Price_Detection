{
 "cells": [
  {
   "cell_type": "code",
   "execution_count": 1,
   "id": "32f98f81-d1e1-4254-9f8f-a6d0ee0c2bdc",
   "metadata": {},
   "outputs": [],
   "source": [
    "#loading required library\n",
    "import numpy as np\n",
    "import pandas as pd\n",
    "import matplotlib.pyplot as plt\n",
    "import seaborn as sns\n",
    "import warnings\n",
    "warnings.filterwarnings('ignore')"
   ]
  },
  {
   "cell_type": "code",
   "execution_count": 2,
   "id": "5331e205-db82-457b-919a-2dc9dd3c8c76",
   "metadata": {},
   "outputs": [
    {
     "data": {
      "text/plain": [
       "Index(['name', 'description', 'make', 'model', 'year', 'price', 'engine',\n",
       "       'cylinders', 'fuel', 'mileage', 'transmission', 'trim', 'body', 'doors',\n",
       "       'exterior_color', 'interior_color', 'drivetrain'],\n",
       "      dtype='object')"
      ]
     },
     "execution_count": 2,
     "metadata": {},
     "output_type": "execute_result"
    }
   ],
   "source": [
    "#loading dataset\n",
    "df = pd.read_csv('dataset.csv')\n",
    "df.columns"
   ]
  },
  {
   "cell_type": "code",
   "execution_count": 3,
   "id": "2940302e-b246-4e35-baf0-7038cede7bbd",
   "metadata": {},
   "outputs": [],
   "source": [
    "#remove irrelavant columns\n",
    "df.drop(columns=['name', 'description'], inplace=True)"
   ]
  },
  {
   "cell_type": "code",
   "execution_count": 4,
   "id": "9cd9fbef-fe0a-4ae3-ae3b-e07cfa0154c7",
   "metadata": {},
   "outputs": [
    {
     "data": {
      "text/plain": [
       "make                0\n",
       "model               0\n",
       "year                0\n",
       "price              23\n",
       "engine              2\n",
       "cylinders         105\n",
       "fuel                7\n",
       "mileage            34\n",
       "transmission        2\n",
       "trim                1\n",
       "body                3\n",
       "doors               7\n",
       "exterior_color      5\n",
       "interior_color     38\n",
       "drivetrain          0\n",
       "dtype: int64"
      ]
     },
     "execution_count": 4,
     "metadata": {},
     "output_type": "execute_result"
    }
   ],
   "source": [
    "#checking null values\n",
    "df.isnull().sum(axis=0)"
   ]
  },
  {
   "cell_type": "code",
   "execution_count": 5,
   "id": "c6783467-8057-4121-90dc-3863afa1c570",
   "metadata": {},
   "outputs": [
    {
     "data": {
      "text/plain": [
       "(1002, 15)"
      ]
     },
     "execution_count": 5,
     "metadata": {},
     "output_type": "execute_result"
    }
   ],
   "source": [
    "df.shape"
   ]
  },
  {
   "cell_type": "code",
   "execution_count": 6,
   "id": "8cac45f7-df56-4606-81ba-043525f8bbc7",
   "metadata": {},
   "outputs": [],
   "source": [
    "#drop missing values in target variable\n",
    "df = df.dropna(subset='price')"
   ]
  },
  {
   "cell_type": "code",
   "execution_count": 7,
   "id": "ed51e556-f469-42ff-9a00-b172cf3c8a4e",
   "metadata": {},
   "outputs": [
    {
     "data": {
      "text/plain": [
       "(979, 15)"
      ]
     },
     "execution_count": 7,
     "metadata": {},
     "output_type": "execute_result"
    }
   ],
   "source": [
    "df.shape"
   ]
  },
  {
   "cell_type": "code",
   "execution_count": 8,
   "id": "ec3b6693-ba31-4c23-95c8-23708c758cf6",
   "metadata": {},
   "outputs": [
    {
     "data": {
      "text/plain": [
       "make               0\n",
       "model              0\n",
       "year               0\n",
       "price              0\n",
       "engine             2\n",
       "cylinders          0\n",
       "fuel               7\n",
       "mileage            0\n",
       "transmission       2\n",
       "trim               1\n",
       "body               3\n",
       "doors              0\n",
       "exterior_color     5\n",
       "interior_color    37\n",
       "drivetrain         0\n",
       "dtype: int64"
      ]
     },
     "execution_count": 8,
     "metadata": {},
     "output_type": "execute_result"
    }
   ],
   "source": [
    "#filling mileage with median\n",
    "df['mileage'].fillna(df['mileage'].median(), inplace=True)\n",
    "\n",
    "#filling cylinder and doors with mode\n",
    "df['cylinders'].fillna(df['cylinders'].mode()[0], inplace=True)\n",
    "df['doors'].fillna(df['doors'].mode()[0], inplace=True)\n",
    "\n",
    "df.isnull().sum(axis=0)"
   ]
  },
  {
   "cell_type": "code",
   "execution_count": 9,
   "id": "71e1c43f-15cb-4ab2-90f2-69c9ee40f8ba",
   "metadata": {},
   "outputs": [
    {
     "data": {
      "text/plain": [
       "make              0\n",
       "model             0\n",
       "year              0\n",
       "price             0\n",
       "engine            0\n",
       "cylinders         0\n",
       "fuel              0\n",
       "mileage           0\n",
       "transmission      0\n",
       "trim              0\n",
       "body              0\n",
       "doors             0\n",
       "exterior_color    0\n",
       "interior_color    0\n",
       "drivetrain        0\n",
       "dtype: int64"
      ]
     },
     "execution_count": 9,
     "metadata": {},
     "output_type": "execute_result"
    }
   ],
   "source": [
    "#filling Null values for categorical columns using mode\n",
    "\n",
    "cat_col = ['make', 'model', 'engine', 'fuel','transmission', \n",
    "           'trim', 'body', 'exterior_color', 'interior_color', 'drivetrain']\n",
    "\n",
    "for col in cat_col:\n",
    "    df[col].fillna(df[col].mode()[0], inplace=True)\n",
    "\n",
    "df.isnull().sum(axis=0)"
   ]
  },
  {
   "cell_type": "markdown",
   "id": "d0b240d0-085e-40c3-aa68-afb71504d461",
   "metadata": {},
   "source": [
    "missing value done."
   ]
  },
  {
   "cell_type": "code",
   "execution_count": 10,
   "id": "96da14ca-a0f6-422c-ab22-68e432a3ffe0",
   "metadata": {},
   "outputs": [],
   "source": [
    "#seperate feature and target\n",
    "X = df.drop(columns='price')\n",
    "y = df[['price']]"
   ]
  },
  {
   "cell_type": "code",
   "execution_count": 11,
   "id": "37c34f4a-0edf-47dc-9e2d-790adeddb2c2",
   "metadata": {},
   "outputs": [
    {
     "data": {
      "text/plain": [
       "['year', 'cylinders', 'mileage', 'doors']"
      ]
     },
     "execution_count": 11,
     "metadata": {},
     "output_type": "execute_result"
    }
   ],
   "source": [
    "#check numerial columns\n",
    "numerical_col = X.select_dtypes(include=np.number).columns.tolist()\n",
    "numerical_col"
   ]
  },
  {
   "cell_type": "code",
   "execution_count": 12,
   "id": "a54450ca-425e-4c53-90c7-eb088058d058",
   "metadata": {},
   "outputs": [
    {
     "data": {
      "text/plain": [
       "['make',\n",
       " 'model',\n",
       " 'engine',\n",
       " 'fuel',\n",
       " 'transmission',\n",
       " 'trim',\n",
       " 'body',\n",
       " 'exterior_color',\n",
       " 'interior_color',\n",
       " 'drivetrain']"
      ]
     },
     "execution_count": 12,
     "metadata": {},
     "output_type": "execute_result"
    }
   ],
   "source": [
    "#check categorical columns\n",
    "categorical_col = X.select_dtypes(include='object').columns.tolist()\n",
    "categorical_col"
   ]
  },
  {
   "cell_type": "code",
   "execution_count": 13,
   "id": "843b0d2b-da8e-45eb-9bba-b75bf410b377",
   "metadata": {},
   "outputs": [
    {
     "name": "stdout",
     "output_type": "stream",
     "text": [
      "make: 28\n",
      "model: 151\n",
      "engine: 100\n",
      "fuel: 7\n",
      "transmission: 38\n",
      "trim: 197\n",
      "body: 8\n",
      "exterior_color: 262\n",
      "interior_color: 90\n",
      "drivetrain: 4\n"
     ]
    }
   ],
   "source": [
    "#check no. of unique value are present in each col.\n",
    "for col in categorical_col:\n",
    "    print(f'{col}: {len(df[col].unique())}')"
   ]
  },
  {
   "cell_type": "markdown",
   "id": "67bfc01b-ae04-4571-951d-726459561bd2",
   "metadata": {},
   "source": [
    "#### low cardinality Nominal : unique variable in column <= 40\n",
    "\n",
    "#### high cardinality Nominal: unique variable in column > 40\n",
    "\n",
    "#### if columns have more unique variable then we will consider target encoding instead of one-hot-encoder."
   ]
  },
  {
   "cell_type": "code",
   "execution_count": 14,
   "id": "9744cff3-3f9f-4c3e-9add-5a7b4e31af8e",
   "metadata": {},
   "outputs": [],
   "source": [
    "#selecting columns for one - hot encoding (low cardinality Nominal)\n",
    "onehot_cols = ['make', 'fuel', \"transmission\", 'body', 'drivetrain']\n",
    "\n",
    "#select colunms for target encoding (high cardinality Nominal)\n",
    "target_cols = ['model', 'engine', 'trim', 'exterior_color', 'interior_color']"
   ]
  },
  {
   "cell_type": "code",
   "execution_count": 15,
   "id": "9cb6f133-f3d7-4955-9dda-fd63419d8519",
   "metadata": {},
   "outputs": [
    {
     "data": {
      "text/plain": [
       "['make', 'fuel', 'transmission', 'body', 'drivetrain']"
      ]
     },
     "execution_count": 15,
     "metadata": {},
     "output_type": "execute_result"
    }
   ],
   "source": [
    "onehot_cols"
   ]
  },
  {
   "cell_type": "code",
   "execution_count": 16,
   "id": "cec7988a-86e5-4fd0-b359-559638d82d6d",
   "metadata": {},
   "outputs": [],
   "source": [
    "from sklearn.preprocessing import OneHotEncoder"
   ]
  },
  {
   "cell_type": "code",
   "execution_count": 17,
   "id": "e9b75c1a-5da6-4e51-81e3-700bf8990ccf",
   "metadata": {},
   "outputs": [],
   "source": [
    "from category_encoders import TargetEncoder"
   ]
  },
  {
   "cell_type": "code",
   "execution_count": 18,
   "id": "16fcc44d-32ed-461f-be94-e82a41ad9dc5",
   "metadata": {},
   "outputs": [],
   "source": [
    "#apply onehot_encoding\n",
    "onehot_encoder = OneHotEncoder(drop='first', sparse_output=False)\n",
    "onehot_encoder.fit(X[onehot_cols])\n",
    "\n",
    "encoded_col = onehot_encoder.transform(X[onehot_cols])\n",
    "encoded_df = pd.DataFrame(encoded_col, columns=onehot_encoder.get_feature_names_out(onehot_cols))"
   ]
  },
  {
   "cell_type": "code",
   "execution_count": 19,
   "id": "0c0a3a5a-221b-4221-b24d-0e62ec455a5c",
   "metadata": {},
   "outputs": [
    {
     "data": {
      "text/plain": [
       "(979, 80)"
      ]
     },
     "execution_count": 19,
     "metadata": {},
     "output_type": "execute_result"
    }
   ],
   "source": [
    "encoded_df.shape"
   ]
  },
  {
   "cell_type": "code",
   "execution_count": 20,
   "id": "b0351eb8-42db-4899-9300-d81f8318c1bd",
   "metadata": {},
   "outputs": [],
   "source": [
    "#apply target encoder for categorical columns have more no. of unique variables.\n",
    "target_encoder = TargetEncoder(cols=target_cols)\n",
    "target_encoder.fit(X[target_cols], y['price'])\n",
    "target_encoded_col = target_encoder.transform(X[target_cols])\n",
    "target_encoded_col.reset_index(drop=True, inplace=True) #reset index"
   ]
  },
  {
   "cell_type": "code",
   "execution_count": 21,
   "id": "0968d578-5520-4a64-8732-7949579a984e",
   "metadata": {},
   "outputs": [],
   "source": [
    "#drop those columns which have converted using encoder ex. onehot encoder and target encoder\n",
    "X.drop(columns=['make', 'fuel', \"transmission\", 'body', 'drivetrain', \n",
    "                'model', 'engine', 'trim', 'exterior_color', 'interior_color'], inplace=True)\n"
   ]
  },
  {
   "cell_type": "code",
   "execution_count": 22,
   "id": "6fc85221-60d5-4772-b0cf-2d4b0969baec",
   "metadata": {},
   "outputs": [],
   "source": [
    "#reset index.\n",
    "X.reset_index(drop=True, inplace=True)\n"
   ]
  },
  {
   "cell_type": "code",
   "execution_count": 23,
   "id": "c522edae-e2d6-4cce-a2f9-33b6dc8281f0",
   "metadata": {},
   "outputs": [
    {
     "data": {
      "text/plain": [
       "(979, 89)"
      ]
     },
     "execution_count": 23,
     "metadata": {},
     "output_type": "execute_result"
    }
   ],
   "source": [
    "#creating input feature using all encoded\n",
    "input_feature = pd.concat([X, encoded_df, target_encoded_col], axis=1)\n",
    "input_feature.shape"
   ]
  },
  {
   "cell_type": "markdown",
   "id": "82f410a1-ae4c-4f17-be9a-6f4003a9d498",
   "metadata": {},
   "source": [
    "# Create model"
   ]
  },
  {
   "cell_type": "code",
   "execution_count": 24,
   "id": "152ab839-d15b-4697-a385-eb5720f3a1fe",
   "metadata": {},
   "outputs": [],
   "source": [
    "#loading library\n",
    "from sklearn.model_selection import train_test_split\n",
    "from sklearn.metrics import r2_score, mean_absolute_error, mean_squared_error\n",
    "from sklearn.ensemble import RandomForestRegressor"
   ]
  },
  {
   "cell_type": "code",
   "execution_count": 25,
   "id": "b50aea4a-61ea-49c5-9fec-c1529c996e82",
   "metadata": {},
   "outputs": [
    {
     "data": {
      "text/plain": [
       "((783, 89), (196, 89), (783, 1), (196, 1))"
      ]
     },
     "execution_count": 25,
     "metadata": {},
     "output_type": "execute_result"
    }
   ],
   "source": [
    "#spliting the train and test datafram\n",
    "x_train, x_test, y_train, y_test = train_test_split(input_feature, y, test_size=0.2, random_state=42)\n",
    "x_train.shape, x_test.shape, y_train.shape, y_test.shape"
   ]
  },
  {
   "cell_type": "code",
   "execution_count": 26,
   "id": "0977e612-9aef-484c-8d3d-b7e4a9203f3c",
   "metadata": {},
   "outputs": [],
   "source": [
    "#fit the model and predict\n",
    "rfr = RandomForestRegressor(n_estimators=100, random_state=42)\n",
    "rfr.fit(x_train, y_train)\n",
    "prediction_rfr = rfr.predict(x_test)"
   ]
  },
  {
   "cell_type": "code",
   "execution_count": 27,
   "id": "be29f7a1-b30d-4621-ba45-81bf4ca8cf61",
   "metadata": {},
   "outputs": [
    {
     "data": {
      "text/plain": [
       "0.9188678811695565"
      ]
     },
     "execution_count": 27,
     "metadata": {},
     "output_type": "execute_result"
    }
   ],
   "source": [
    "#calculating R2 values.\n",
    "r2_score(y_test, prediction_rfr)"
   ]
  },
  {
   "cell_type": "code",
   "execution_count": 28,
   "id": "b6ce2ada-1b54-4429-b416-5484547fb8d2",
   "metadata": {},
   "outputs": [
    {
     "data": {
      "text/html": [
       "<div>\n",
       "<style scoped>\n",
       "    .dataframe tbody tr th:only-of-type {\n",
       "        vertical-align: middle;\n",
       "    }\n",
       "\n",
       "    .dataframe tbody tr th {\n",
       "        vertical-align: top;\n",
       "    }\n",
       "\n",
       "    .dataframe thead th {\n",
       "        text-align: right;\n",
       "    }\n",
       "</style>\n",
       "<table border=\"1\" class=\"dataframe\">\n",
       "  <thead>\n",
       "    <tr style=\"text-align: right;\">\n",
       "      <th></th>\n",
       "      <th>price</th>\n",
       "    </tr>\n",
       "  </thead>\n",
       "  <tbody>\n",
       "    <tr>\n",
       "      <th>count</th>\n",
       "      <td>979.000000</td>\n",
       "    </tr>\n",
       "    <tr>\n",
       "      <th>mean</th>\n",
       "      <td>50202.985700</td>\n",
       "    </tr>\n",
       "    <tr>\n",
       "      <th>std</th>\n",
       "      <td>18700.392062</td>\n",
       "    </tr>\n",
       "    <tr>\n",
       "      <th>min</th>\n",
       "      <td>0.000000</td>\n",
       "    </tr>\n",
       "    <tr>\n",
       "      <th>25%</th>\n",
       "      <td>36600.000000</td>\n",
       "    </tr>\n",
       "    <tr>\n",
       "      <th>50%</th>\n",
       "      <td>47165.000000</td>\n",
       "    </tr>\n",
       "    <tr>\n",
       "      <th>75%</th>\n",
       "      <td>58919.500000</td>\n",
       "    </tr>\n",
       "    <tr>\n",
       "      <th>max</th>\n",
       "      <td>195895.000000</td>\n",
       "    </tr>\n",
       "  </tbody>\n",
       "</table>\n",
       "</div>"
      ],
      "text/plain": [
       "               price\n",
       "count     979.000000\n",
       "mean    50202.985700\n",
       "std     18700.392062\n",
       "min         0.000000\n",
       "25%     36600.000000\n",
       "50%     47165.000000\n",
       "75%     58919.500000\n",
       "max    195895.000000"
      ]
     },
     "execution_count": 28,
     "metadata": {},
     "output_type": "execute_result"
    }
   ],
   "source": [
    "y.describe()"
   ]
  },
  {
   "cell_type": "code",
   "execution_count": 29,
   "id": "b3e140d2-0799-4f39-a63c-53dead5b23ac",
   "metadata": {},
   "outputs": [
    {
     "name": "stdout",
     "output_type": "stream",
     "text": [
      "4977.646864101206\n"
     ]
    }
   ],
   "source": [
    "#checking RMSE\n",
    "print(np.sqrt(mean_squared_error(y_test, prediction_rfr)))"
   ]
  },
  {
   "cell_type": "code",
   "execution_count": 30,
   "id": "a0acb6de-cedc-477e-b652-e6550dbd914a",
   "metadata": {},
   "outputs": [
    {
     "name": "stdout",
     "output_type": "stream",
     "text": [
      "Percetage of error b/w actual and predicted price is: 2.5409769846607655\n"
     ]
    }
   ],
   "source": [
    "#convert RMSE into error percentage\n",
    "print(f'Percetage of error b/w actual and predicted price is: {np.sqrt(mean_squared_error(y_test, prediction_rfr))/195895 * 100}') \n",
    "#formulla used: RMSE/Max of traget_value * 100"
   ]
  },
  {
   "cell_type": "markdown",
   "id": "e549bf41-91be-43a1-a633-38a786fed0b7",
   "metadata": {},
   "source": [
    "Note: Target i.e. Price columns has min and max value are 0 and 195895. \n",
    "Error we are getting b/w predicted and actual price is 2.5 %. which not bad"
   ]
  },
  {
   "cell_type": "code",
   "execution_count": 31,
   "id": "30cfdc7a-12ec-4a39-9060-4432c503726a",
   "metadata": {},
   "outputs": [
    {
     "data": {
      "text/plain": [
       "['Target_encoder.pkl']"
      ]
     },
     "execution_count": 31,
     "metadata": {},
     "output_type": "execute_result"
    }
   ],
   "source": [
    "#now saving model and encoded variables\n",
    "import joblib\n",
    "\n",
    "joblib.dump(rfr, 'Random_forest_regressor.pkl')\n",
    "joblib.dump(onehot_encoder, 'Onehot_encoder.pkl')\n",
    "joblib.dump(target_encoder, 'Target_encoder.pkl')"
   ]
  },
  {
   "cell_type": "markdown",
   "id": "da68b52b-4462-430e-8cd1-c223e6da2027",
   "metadata": {},
   "source": [
    "## Project Completed By Deepak Kumar"
   ]
  },
  {
   "cell_type": "markdown",
   "id": "df725428-71e9-41b2-a66f-dabc3c166253",
   "metadata": {},
   "source": [
    "# Thanks you ! "
   ]
  }
 ],
 "metadata": {
  "kernelspec": {
   "display_name": "Python 3 (ipykernel)",
   "language": "python",
   "name": "python3"
  },
  "language_info": {
   "codemirror_mode": {
    "name": "ipython",
    "version": 3
   },
   "file_extension": ".py",
   "mimetype": "text/x-python",
   "name": "python",
   "nbconvert_exporter": "python",
   "pygments_lexer": "ipython3",
   "version": "3.13.1"
  }
 },
 "nbformat": 4,
 "nbformat_minor": 5
}
